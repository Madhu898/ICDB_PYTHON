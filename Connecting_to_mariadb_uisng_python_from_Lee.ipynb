{
 "cells": [
  {
   "cell_type": "code",
   "execution_count": 3,
   "metadata": {},
   "outputs": [],
   "source": [
    "import mariadb\n",
    "import pandas as pd"
   ]
  },
  {
   "cell_type": "code",
   "execution_count": 4,
   "metadata": {},
   "outputs": [],
   "source": [
    "# Function to establish a connection to MariaDB\n",
    "def create_db_connection(host, user, password, database):\n",
    "    try:\n",
    "        connection = mariadb.connect(\n",
    "            host=host,\n",
    "            user=user,\n",
    "            password=password,\n",
    "            database=database,\n",
    "            port=3306,\n",
    "        )\n",
    "        return connection\n",
    "    except Exception as e:\n",
    "        print(f\"Error: {str(e)}\")\n",
    "        return None"
   ]
  },
  {
   "cell_type": "code",
   "execution_count": 5,
   "metadata": {},
   "outputs": [],
   "source": [
    "# Function to execute a SQL query and return results as a Pandas DataFrame\n",
    "def query_to_dataframe(connection, query):\n",
    "    try:\n",
    "        if connection is not None:\n",
    "            cursor = connection.cursor()\n",
    "            cursor.execute(query)\n",
    "            result = cursor.fetchall()\n",
    "            columns = [i[0] for i in cursor.description]\n",
    "            df = pd.DataFrame(result, columns=columns)\n",
    "            return df\n",
    "        else:\n",
    "            print(\"No database connection available.\")\n",
    "            return None\n",
    "    except Exception as e:\n",
    "        print(f\"Error: {str(e)}\")\n",
    "        return None"
   ]
  },
  {
   "cell_type": "code",
   "execution_count": 6,
   "metadata": {},
   "outputs": [],
   "source": [
    "# Function to insert a Pandas DataFrame into a MariaDB table\n",
    "def dataframe_to_table(connection, dataframe, table_name):\n",
    "    try:\n",
    "        if connection is not None:\n",
    "            cursor = connection.cursor()\n",
    "\n",
    "            # Create the table using the DataFrame's structure\n",
    "            create_table_query = f\"CREATE TABLE IF NOT EXISTS {table_name} (\"\n",
    "            columns = [f\"{col} VARCHAR(255)\" for col in dataframe.columns]\n",
    "            create_table_query += \", \".join(columns) + \")\"\n",
    "            cursor.execute(create_table_query)\n",
    "            \n",
    "            # Insert data into the table\n",
    "            for _, row in dataframe.iterrows():\n",
    "                values = tuple(row)\n",
    "                placeholders = \",\".join([\"%s\"] * len(values))\n",
    "                insert_query = f\"INSERT INTO {table_name} VALUES ({placeholders})\"\n",
    "                cursor.execute(insert_query, values)\n",
    "            connection.commit()\n",
    "            print(f\"Data inserted into {table_name} successfully.\")\n",
    "        else:\n",
    "            print(\"No database connection available.\")\n",
    "    except Exception as e:\n",
    "        print(f\"Error: {str(e)}\")"
   ]
  },
  {
   "cell_type": "code",
   "execution_count": 7,
   "metadata": {},
   "outputs": [],
   "source": [
    "# Replace these with your MariaDB connection details\n",
    "host = \"10.54.209.120\"\n",
    "user = \"ICDBSEL\"\n",
    "password = \"Santro@123\"\n",
    "database = \"DM\"\n",
    "\n",
    "# Create a connection\n",
    "connection = create_db_connection(host, user, password, database)"
   ]
  },
  {
   "cell_type": "code",
   "execution_count": 9,
   "metadata": {},
   "outputs": [],
   "source": [
    "# Close the connection when done\n",
    "if connection is not None:\n",
    "    connection.close()"
   ]
  }
 ],
 "metadata": {
  "kernelspec": {
   "display_name": "Python 3",
   "language": "python",
   "name": "python3"
  },
  "language_info": {
   "codemirror_mode": {
    "name": "ipython",
    "version": 3
   },
   "file_extension": ".py",
   "mimetype": "text/x-python",
   "name": "python",
   "nbconvert_exporter": "python",
   "pygments_lexer": "ipython3",
   "version": "3.7.1"
  }
 },
 "nbformat": 4,
 "nbformat_minor": 2
}
